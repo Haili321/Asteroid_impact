{
 "cells": [
  {
   "cell_type": "code",
   "execution_count": null,
   "id": "3cd5c8f6",
   "metadata": {},
   "outputs": [],
   "source": [
    "import armageddon\n",
    "\n",
    "locator = armageddon.PostcodeLocator()\n",
    "\n",
    "lat_entry = 52.655394701839896\n",
    "lon_entry = -1.3030671874328144\n",
    "\n",
    "lat_blast = 53.64040971412841\n",
    "lon_blast = -1.2523687602455351\n",
    "\n",
    "radii = [37115.469444321236, 11994.891298340393, 4654.807146118714, 2206.0544987188114]\n",
    "\n",
    "postcodes = locator.get_postcodes_by_radius(\n",
    "    (lat_blast, lon_blast),\n",
    "    radii,\n",
    "    sector=False)\n",
    "\n",
    "postcodes_sector = locator.get_postcodes_by_radius(\n",
    "    (lat_blast, lon_blast),\n",
    "    radii,\n",
    "    sector=True)\n",
    "\n",
    "pop_size_sector = locator.get_population_of_postcode(postcodes_sector, sector=True)\n",
    "pop_size = locator.get_population_of_postcode(postcodes, sector=False)"
   ]
  },
  {
   "cell_type": "markdown",
   "id": "0abcf3d1",
   "metadata": {},
   "source": [
    "## Sectors = True\n",
    "\n",
    "Some markers that belong to a certain zone lies outside the associated zone. This is because the mean has been taken from the Latitudes and Longitude of all units in a sector."
   ]
  },
  {
   "cell_type": "code",
   "execution_count": null,
   "id": "ec776bad",
   "metadata": {},
   "outputs": [],
   "source": [
    "armageddon.plot_results(lat_entry, lon_entry, lat_blast, lon_blast, radii,\n",
    "                        postcodes=postcodes_sector, pop_size=pop_size_sector, sector=True)"
   ]
  },
  {
   "cell_type": "markdown",
   "id": "c6028e5e",
   "metadata": {},
   "source": [
    "## Sectors = False"
   ]
  },
  {
   "cell_type": "code",
   "execution_count": null,
   "id": "2f698389",
   "metadata": {},
   "outputs": [],
   "source": [
    "armageddon.plot_results(lat_entry, lon_entry, lat_blast, lon_blast, radii,\n",
    "                        postcodes=postcodes, pop_size=pop_size, sector=False)"
   ]
  }
 ],
 "metadata": {
  "kernelspec": {
   "display_name": "Python 3 (ipykernel)",
   "language": "python",
   "name": "python3"
  },
  "language_info": {
   "codemirror_mode": {
    "name": "ipython",
    "version": 3
   },
   "file_extension": ".py",
   "mimetype": "text/x-python",
   "name": "python",
   "nbconvert_exporter": "python",
   "pygments_lexer": "ipython3",
   "version": "3.8.10"
  }
 },
 "nbformat": 4,
 "nbformat_minor": 5
}
